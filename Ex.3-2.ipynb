{
 "cells": [
  {
   "cell_type": "code",
   "execution_count": 174,
   "metadata": {},
   "outputs": [],
   "source": [
    "import pandas as pd\n",
    "import numpy as np\n",
    "from scipy import stats\n",
    "import seaborn as sns\n",
    "sns.set()\n",
    "import matplotlib.pyplot as plt\n",
    "import math\n",
    "import matplotlib.mlab as mlab"
   ]
  },
  {
   "cell_type": "markdown",
   "metadata": {},
   "source": [
    "## Exercise 1"
   ]
  },
  {
   "cell_type": "code",
   "execution_count": 148,
   "metadata": {},
   "outputs": [],
   "source": [
    "url = \"https://raw.githubusercontent.com/DavidePosillipo/ProbabilityAndStatistics/master/Assignment_3/bigcity.csv\"\n",
    "df = pd.read_csv(url, index_col=0)"
   ]
  },
  {
   "cell_type": "code",
   "execution_count": 193,
   "metadata": {},
   "outputs": [
    {
     "data": {
      "text/html": [
       "<div>\n",
       "<style scoped>\n",
       "    .dataframe tbody tr th:only-of-type {\n",
       "        vertical-align: middle;\n",
       "    }\n",
       "\n",
       "    .dataframe tbody tr th {\n",
       "        vertical-align: top;\n",
       "    }\n",
       "\n",
       "    .dataframe thead th {\n",
       "        text-align: right;\n",
       "    }\n",
       "</style>\n",
       "<table border=\"1\" class=\"dataframe\">\n",
       "  <thead>\n",
       "    <tr style=\"text-align: right;\">\n",
       "      <th></th>\n",
       "      <th>u</th>\n",
       "      <th>x</th>\n",
       "    </tr>\n",
       "  </thead>\n",
       "  <tbody>\n",
       "    <tr>\n",
       "      <th>1</th>\n",
       "      <td>138</td>\n",
       "      <td>143</td>\n",
       "    </tr>\n",
       "    <tr>\n",
       "      <th>2</th>\n",
       "      <td>93</td>\n",
       "      <td>104</td>\n",
       "    </tr>\n",
       "    <tr>\n",
       "      <th>3</th>\n",
       "      <td>61</td>\n",
       "      <td>69</td>\n",
       "    </tr>\n",
       "    <tr>\n",
       "      <th>4</th>\n",
       "      <td>179</td>\n",
       "      <td>260</td>\n",
       "    </tr>\n",
       "    <tr>\n",
       "      <th>5</th>\n",
       "      <td>48</td>\n",
       "      <td>75</td>\n",
       "    </tr>\n",
       "  </tbody>\n",
       "</table>\n",
       "</div>"
      ],
      "text/plain": [
       "     u    x\n",
       "1  138  143\n",
       "2   93  104\n",
       "3   61   69\n",
       "4  179  260\n",
       "5   48   75"
      ]
     },
     "execution_count": 193,
     "metadata": {},
     "output_type": "execute_result"
    }
   ],
   "source": [
    "df.head()"
   ]
  },
  {
   "cell_type": "code",
   "execution_count": 194,
   "metadata": {},
   "outputs": [
    {
     "data": {
      "text/plain": [
       "1.2390185991294025"
      ]
     },
     "execution_count": 194,
     "metadata": {},
     "output_type": "execute_result"
    }
   ],
   "source": [
    "#An estimator of theta is a function of the given sample. \n",
    "#In our case this function is the ratio between the expected value of 'x' and the expected value of 'u';\n",
    "#theta_hat = E(x_hat)/E(u_hat) where x_hat,u_hat are the values of our sample.\n",
    "theta_hat = np.mean(df['x']) / np.mean(df['u'])\n",
    "theta_hat"
   ]
  },
  {
   "cell_type": "code",
   "execution_count": 195,
   "metadata": {},
   "outputs": [],
   "source": [
    "#The bootstrap is a method for estimating standard errors and computing confidence intervals;\n",
    "#it is used for the evaluation of the performance of estimation procedures, for approximating estimation biases and standard errors. \n",
    "\n",
    "# what we need to do is a pair bootstrap for the mean of u and x, being the \n",
    "# variables related to each other (meaning: we have to take always the x and the corresponding u\n",
    "# i order to properly compute the confidence interval)\n",
    "\n",
    "def pairs_bs(x,u, size=1): #now we have to compute a double resampling, how can be done? \n",
    "    indices= np.arange(len(x))\n",
    "    mean= np.empty(size)\n",
    "    for i in range(size):\n",
    "        bs_indexes= np.random.choice(indices, size= len(indices))\n",
    "        mean[i]= np.mean(x[bs_indexes])/np.mean(u[bs_indexes])\n",
    "    return mean"
   ]
  },
  {
   "cell_type": "code",
   "execution_count": 196,
   "metadata": {},
   "outputs": [
    {
     "name": "stderr",
     "output_type": "stream",
     "text": [
      "/anaconda3/lib/python3.6/site-packages/pandas/core/series.py:841: FutureWarning: \n",
      "Passing list-likes to .loc or [] with any missing label will raise\n",
      "KeyError in the future, you can use .reindex() as an alternative.\n",
      "\n",
      "See the documentation here:\n",
      "https://pandas.pydata.org/pandas-docs/stable/indexing.html#deprecate-loc-reindex-listlike\n",
      "  return self.loc[key]\n"
     ]
    }
   ],
   "source": [
    "#Calculate the biasedness of theta_hat through bootstrap replication.\n",
    "bootstrap_mean = pairs_bs(df['x'],df['u'], size=1000)"
   ]
  },
  {
   "cell_type": "code",
   "execution_count": 197,
   "metadata": {},
   "outputs": [
    {
     "name": "stdout",
     "output_type": "stream",
     "text": [
      "0.0017954938643542917\n"
     ]
    }
   ],
   "source": [
    "#The estimator overestimate the true value calculated through bootstrap replication.\n",
    "bias = theta_hat - np.mean(bootstrap_mean)\n",
    "print(bias)"
   ]
  },
  {
   "cell_type": "markdown",
   "metadata": {},
   "source": []
  },
  {
   "cell_type": "markdown",
   "metadata": {},
   "source": [
    "\n"
   ]
  },
  {
   "cell_type": "code",
   "execution_count": 198,
   "metadata": {},
   "outputs": [
    {
     "data": {
      "text/plain": [
       "0.03633584795448752"
      ]
     },
     "execution_count": 198,
     "metadata": {},
     "output_type": "execute_result"
    }
   ],
   "source": [
    "np.std(bootstrap_mean)\n",
    "# having a big sample obtained through bootstrap, we computed the std of this one"
   ]
  },
  {
   "cell_type": "code",
   "execution_count": 199,
   "metadata": {},
   "outputs": [
    {
     "name": "stdout",
     "output_type": "stream",
     "text": [
      "[1.18266595 1.29921931]\n"
     ]
    }
   ],
   "source": [
    "# using the same sample as before \n",
    "conf_interval = np.percentile(bootstrap_mean, [5.,95.])\n",
    "print(conf_interval)"
   ]
  },
  {
   "cell_type": "markdown",
   "metadata": {},
   "source": [
    "## Exercise 2"
   ]
  },
  {
   "cell_type": "code",
   "execution_count": 200,
   "metadata": {},
   "outputs": [],
   "source": [
    "def inverseFunction(n, mu = 1, alpha = 1):\n",
    "    uniform = np.random.random(n)\n",
    "    sample = np.zeros(n)\n",
    "    for i in range(n):\n",
    "        inverse_f = mu * np.power(np.log(1/(1-uniform[i])),1/alpha)\n",
    "        if inverse_f > 0:\n",
    "            sample[i] = inverse_f\n",
    "    return sample"
   ]
  },
  {
   "cell_type": "code",
   "execution_count": 201,
   "metadata": {},
   "outputs": [],
   "source": [
    "# We want to sample from the Weibull distribution and we have access to the inverse of the CDF of Y so we generate \n",
    "# a random uniform and evaluate the function F inverse of U and what we obtain will be a simulation from the \n",
    "# Weibull distribution. "
   ]
  },
  {
   "cell_type": "code",
   "execution_count": 202,
   "metadata": {},
   "outputs": [
    {
     "data": {
      "text/plain": [
       "(array([519120., 248712., 120032.,  57048.,  27608.,  13302.,   6237.,\n",
       "          2911.,   1454.,    665.]),\n",
       " array([2.36812773e-03, 7.36193060e-01, 1.47001799e+00, 2.20384293e+00,\n",
       "        2.93766786e+00, 3.67149279e+00, 4.40531772e+00, 5.13914266e+00,\n",
       "        5.87296759e+00, 6.60679252e+00, 7.34061746e+00]),\n",
       " <a list of 10 Patch objects>)"
      ]
     },
     "execution_count": 202,
     "metadata": {},
     "output_type": "execute_result"
    },
    {
     "data": {
      "image/png": "[encoded data removed]",
      "text/plain": [
       "<Figure size 432x288 with 1 Axes>"
      ]
     },
     "metadata": {},
     "output_type": "display_data"
    }
   ],
   "source": [
    "#plot the results of the weibull distribution\n",
    "plt.hist(stats.exponweib.rvs(a = 1, c = 1, size=1000000), bins=[2.36812773e-03, 7.36193060e-01, 1.47001799e+00, 2.20384293e+00,2.93766786e+00, 3.67149279e+00, 4.40531772e+00, 5.13914266e+00,5.87296759e+00, 6.60679252e+00, 7.34061746e+00], color='purple')"
   ]
  },
  {
   "cell_type": "code",
   "execution_count": 203,
   "metadata": {},
   "outputs": [
    {
     "data": {
      "text/plain": [
       "(array([519234., 248582., 119996.,  57039.,  27291.,  13352.,   6307.,\n",
       "          2964.,   1450.,    738.]),\n",
       " array([2.36812773e-03, 7.36193060e-01, 1.47001799e+00, 2.20384293e+00,\n",
       "        2.93766786e+00, 3.67149279e+00, 4.40531772e+00, 5.13914266e+00,\n",
       "        5.87296759e+00, 6.60679252e+00, 7.34061746e+00]),\n",
       " <a list of 10 Patch objects>)"
      ]
     },
     "execution_count": 203,
     "metadata": {},
     "output_type": "execute_result"
    },
    {
     "data": {
      "image/png": "[encoded data removed]",
      "text/plain": [
       "<Figure size 432x288 with 1 Axes>"
      ]
     },
     "metadata": {},
     "output_type": "display_data"
    }
   ],
   "source": [
    "#plot the results obtained through the inverse transform method.\n",
    "plt.hist(inverseFunction_(1000000), bins=[2.36812773e-03, 7.36193060e-01, 1.47001799e+00, 2.20384293e+00,2.93766786e+00, 3.67149279e+00, 4.40531772e+00, 5.13914266e+00,5.87296759e+00, 6.60679252e+00, 7.34061746e+00], color='orange')"
   ]
  },
  {
   "cell_type": "code",
   "execution_count": 142,
   "metadata": {},
   "outputs": [],
   "source": [
    "#From the plot that we obtained we notice that the results are very similar, so the inverse transform method \n",
    "#has been well implemented, giving a good simulation of the Weibull distribution."
   ]
  },
  {
   "cell_type": "markdown",
   "metadata": {},
   "source": [
    "## Exercise 3"
   ]
  },
  {
   "cell_type": "code",
   "execution_count": 161,
   "metadata": {},
   "outputs": [],
   "source": [
    "#Density of a normal\n",
    "def gaussian(x, mean, dev=0.1):\n",
    "    return 1/math.sqrt(2*math.pi) / dev * math.exp(-(x-mean)**2 / 2/dev**2)"
   ]
  },
  {
   "cell_type": "code",
   "execution_count": 167,
   "metadata": {},
   "outputs": [],
   "source": [
    "#We generate data from a mixture normal density and then concatenate the samples.\n",
    "N = 10000\n",
    "a = 0.3 \n",
    "\n",
    "sample1 = np.random.normal(0, 0.1, size=int(N*a)) #30% of the time the data come from the first normal\n",
    "sample2 = np.random.normal(5, 0.3, size=int(N*(1-a))) #70% of the time we get data from the second component of the mixture model\n",
    "\n",
    "sample = np.concatenate([sample1, sample2])"
   ]
  },
  {
   "cell_type": "code",
   "execution_count": 170,
   "metadata": {},
   "outputs": [
    {
     "data": {
      "text/plain": [
       "[<matplotlib.lines.Line2D at 0x1a26cdd160>]"
      ]
     },
     "execution_count": 170,
     "metadata": {},
     "output_type": "execute_result"
    },
    {
     "data": {
      "image/png": "[encoded data removed]",
      "text/plain": [
       "<Figure size 432x288 with 1 Axes>"
      ]
     },
     "metadata": {},
     "output_type": "display_data"
    }
   ],
   "source": [
    "#We plot the results.\n",
    "\n",
    "hist, bin_edges = np.histogram(sample, bins=100)\n",
    "plt.plot(hist)"
   ]
  },
  {
   "cell_type": "code",
   "execution_count": 175,
   "metadata": {},
   "outputs": [
    {
     "name": "stdout",
     "output_type": "stream",
     "text": [
      "[-0.07363998  4.11835496  0.06557621  1.91044542  0.14693372]\n",
      "[-0.02276496  4.63839942  0.07933071  1.3164675   0.24371375]\n",
      "[8.45558475e-04 4.98938734e+00 9.68753701e-02 3.90909216e-01\n",
      " 2.98078649e-01]\n",
      "[2.00303878e-03 5.00258376e+00 9.87967513e-02 2.99184862e-01\n",
      " 3.00000000e-01]\n",
      "[2.00303878e-03 5.00258376e+00 9.87967513e-02 2.99184862e-01\n",
      " 3.00000000e-01]\n"
     ]
    },
    {
     "name": "stderr",
     "output_type": "stream",
     "text": [
      "/anaconda3/lib/python3.6/site-packages/matplotlib/axes/_axes.py:6462: UserWarning: The 'normed' kwarg is deprecated, and has been replaced by the 'density' kwarg.\n",
      "  warnings.warn(\"The 'normed' kwarg is deprecated, and has been \"\n",
      "/anaconda3/lib/python3.6/site-packages/ipykernel_launcher.py:54: MatplotlibDeprecationWarning: scipy.stats.norm.pdf\n",
      "/anaconda3/lib/python3.6/site-packages/ipykernel_launcher.py:55: MatplotlibDeprecationWarning: scipy.stats.norm.pdf\n"
     ]
    },
    {
     "data": {
      "image/png": "[encoded data removed]",
      "text/plain": [
       "<Figure size 432x288 with 1 Axes>"
      ]
     },
     "metadata": {},
     "output_type": "display_data"
    }
   ],
   "source": [
    "max_iter = 150\n",
    "\n",
    "#Initial values\n",
    "params = np.array([-1, 1, 0.2, 0.2, 0.5]) #initial mean of 1st component and 2nd component, std of 1st and 2nd component and the probability\n",
    "\n",
    "counter = 0 #Number of iterations\n",
    "converged = False \n",
    "tol = 0.01\n",
    "\n",
    "plabel1 = np.zeros(sample.shape)\n",
    "plabel2 = np.zeros(sample.shape)\n",
    "\n",
    "while not converged and counter < max_iter:\n",
    "    counter += 1\n",
    "    \n",
    "    mu1, mu2, sigma1, sigma2, pi_1 = params\n",
    "    \n",
    "    #1st step: Expectation step\n",
    "    # From the expectation step we can compute, for given parameter values, \n",
    "    # the posterior probabilities\n",
    "    \n",
    "    for i in range(len(sample)):\n",
    "        cdf1 = gaussian(sample[i], mu1, dev=sigma1)\n",
    "        cdf2 = gaussian(sample[i], mu2, dev=sigma2)\n",
    "        \n",
    "        pi_2 = 1 - pi_1\n",
    "        \n",
    "        plabel1[i] = cdf1 * pi_1 / (cdf1 * pi_1 + cdf2 * pi_2) #Posterior probability (tau)\n",
    "        plabel2[i] = cdf2 * pi_2 / (cdf1 * pi_1 + cdf2 * pi_2) #Posterior probability (tau)\n",
    "        \n",
    "    #2nd step: Maximization step\n",
    "    # From the labeled data points we update the parameters of our model based on the latent variable \n",
    "    # calculated using ML method\n",
    "    \n",
    "    mu1 = sum(sample * plabel1)/sum(plabel1)\n",
    "    mu2 = sum(sample * plabel2)/sum(plabel2)\n",
    "    pi_1 = sum(plabel1)/len(sample)\n",
    "    sigma1 = np.sqrt((sum(plabel1 * (sample - mu1)**2) / sum(plabel1)))\n",
    "    sigma2 = np.sqrt((sum(plabel2 * (sample - mu2)**2) / sum(plabel2)))\n",
    "    \n",
    "    new_parameters = np.array([mu1, mu2, sigma1, sigma2, pi_1])\n",
    "    print(new_parameters)\n",
    "    \n",
    "    #Finally we check for the convergence\n",
    "    if np.max(abs(np.asarray(params) - np.asarray(new_parameters))) < tol:\n",
    "        converged = True\n",
    "        \n",
    "    params = new_parameters\n",
    "\n",
    "plt.hist(sample, bins = 100, normed = True)\n",
    "\n",
    "x = np.linspace(sample.min(), sample.max(), 100)\n",
    "\n",
    "plt.plot(x, mlab.normpdf(x, mu1, sigma1))\n",
    "plt.plot(x, mlab.normpdf(x, mu2, sigma2))\n",
    "\n",
    "plt.show()"
   ]
  },
  {
   "cell_type": "markdown",
   "metadata": {},
   "source": [
    "## Exercise 4"
   ]
  },
  {
   "cell_type": "code",
   "execution_count": 176,
   "metadata": {},
   "outputs": [],
   "source": [
    "#Implement a function to compute f(x, delta).\n",
    "x = np.arange(0.0001, 2.5, 0.1)\n",
    "def f(x, delta=1.5):\n",
    "    if x>0:\n",
    "        function = (delta/(x*np.sqrt(2 * np.pi))) * np.cosh(delta * np.log(2*x)) * np.exp((-np.sinh(delta * np.log(2*x))**2)/2)\n",
    "    else:\n",
    "        function = 0\n",
    "    return function"
   ]
  },
  {
   "cell_type": "code",
   "execution_count": 204,
   "metadata": {},
   "outputs": [
    {
     "name": "stdout",
     "output_type": "stream",
     "text": [
      "0.9999999894169292\n"
     ]
    },
    {
     "data": {
      "image/png": "[encoded data removed]",
      "text/plain": [
       "<Figure size 432x288 with 1 Axes>"
      ]
     },
     "metadata": {},
     "output_type": "display_data"
    }
   ],
   "source": [
    "x=np.linspace(-10,10,1000)\n",
    "y=np.empty(len(x))\n",
    "\n",
    "for i in range(len(x)):\n",
    "    y[i]=f(x[i])\n",
    "\n",
    "_ = plt.plot(x, y)\n",
    "_ = plt.xlabel(\"rapporto delle medie\")\n",
    "_ = plt.ylabel(\" Empirical PDF of the mean\")\n",
    "\n",
    "#to check wheter it's correct  or not i can cumpute the integral, means the cumulative sum times the pace\n",
    "print(np.sum(y)*(x[1]-x[0]))"
   ]
  },
  {
   "cell_type": "code",
   "execution_count": 205,
   "metadata": {},
   "outputs": [],
   "source": [
    "#Implement a function to simulate from X using the Acceptance Rejection sampling, using an Exponential distribution (lambda = 1) \n",
    "#Target function is f(x, delta).\n",
    "#The envelop is very important because the effiency of the algorithm depends on the choice of the envelop.\n",
    "#A good envelop is close as possible to the target function.\n",
    "\n",
    "#Envelop is exponential distribution.\n",
    "def g(x):\n",
    "    return stats.expon.pdf(x)"
   ]
  },
  {
   "cell_type": "code",
   "execution_count": 206,
   "metadata": {},
   "outputs": [],
   "source": [
    "#Define alpha: alpha is the expected proportion of candidates accepted and it has values between zero and one.\n",
    "\n",
    "#we used only positive numbers since the support of two distributions is positive \n",
    "\n",
    "x=np.linspace(0.01,10,10000)\n",
    "max=0\n",
    "\n",
    "# we built our own maximazation algorithm since it was easier\n",
    "\n",
    "for i in range(len(x)):\n",
    "    a=f(x[i])/g(x[i])\n",
    "    if max<a:\n",
    "        max=a\n",
    "\n",
    "# only positive number\n",
    "alpha = max**-1"
   ]
  },
  {
   "cell_type": "code",
   "execution_count": 207,
   "metadata": {},
   "outputs": [],
   "source": [
    "#Code the AR algorithm\n",
    "def AR_algorithm(n_iter):\n",
    "    \n",
    "    generated_sample = []\n",
    "    for i in range(n_iter):\n",
    "        Y = np.random.exponential(1)\n",
    "        U = np.random.uniform(0, 1)  \n",
    " \n",
    "        if U <= f(Y)*alpha/(g(Y)):\n",
    "            generated_sample.append(Y)\n",
    "    return np.array(generated_sample)"
   ]
  },
  {
   "cell_type": "code",
   "execution_count": 208,
   "metadata": {},
   "outputs": [
    {
     "data": {
      "text/plain": [
       "[<matplotlib.lines.Line2D at 0x1a27c490b8>]"
      ]
     },
     "execution_count": 208,
     "metadata": {},
     "output_type": "execute_result"
    },
    {
     "data": {
      "image/png": "[encoded data removed]",
      "text/plain": [
       "<Figure size 432x288 with 1 Axes>"
      ]
     },
     "metadata": {},
     "output_type": "display_data"
    }
   ],
   "source": [
    "#Check wether e(x) envelop f(x).\n",
    "\n",
    "x=np.linspace(0,10,1000)\n",
    "y=np.empty(len(x))\n",
    "\n",
    "for i in range(len(x)):\n",
    "    y[i]=f(x[i])\n",
    "\n",
    "\n",
    "plt.plot(y) #f(x)\n",
    "plt.plot(1/alpha * g(x)) #e(x) "
   ]
  },
  {
   "cell_type": "code",
   "execution_count": 209,
   "metadata": {},
   "outputs": [
    {
     "name": "stderr",
     "output_type": "stream",
     "text": [
      "/anaconda3/lib/python3.6/site-packages/matplotlib/axes/_axes.py:6462: UserWarning: The 'normed' kwarg is deprecated, and has been replaced by the 'density' kwarg.\n",
      "  warnings.warn(\"The 'normed' kwarg is deprecated, and has been \"\n"
     ]
    },
    {
     "data": {
      "text/plain": [
       "<matplotlib.axes._subplots.AxesSubplot at 0x1a2796cef0>"
      ]
     },
     "execution_count": 209,
     "metadata": {},
     "output_type": "execute_result"
    },
    {
     "data": {
      "image/png": "[encoded data removed]",
      "text/plain": [
       "<Figure size 432x288 with 1 Axes>"
      ]
     },
     "metadata": {},
     "output_type": "display_data"
    }
   ],
   "source": [
    "#Simulate the function.\n",
    "simulation = AR_algorithm(100000)\n",
    "sns.distplot(simulation)"
   ]
  },
  {
   "cell_type": "markdown",
   "metadata": {},
   "source": []
  },
  {
   "cell_type": "code",
   "execution_count": 210,
   "metadata": {},
   "outputs": [],
   "source": [
    "# Estimate E(X**2)\n",
    "# for the sample of y, we compute a sample of y^2\n",
    "y=AR_algorithm(1000)**2\n",
    "\n",
    "def bootstrap_replicate(data, function):\n",
    "    bs_sample= np.random.choice(data, len(data))\n",
    "    return function(bs_sample)"
   ]
  },
  {
   "cell_type": "code",
   "execution_count": 211,
   "metadata": {},
   "outputs": [
    {
     "name": "stderr",
     "output_type": "stream",
     "text": [
      "/anaconda3/lib/python3.6/site-packages/matplotlib/axes/_axes.py:6462: UserWarning: The 'normed' kwarg is deprecated, and has been replaced by the 'density' kwarg.\n",
      "  warnings.warn(\"The 'normed' kwarg is deprecated, and has been \"\n"
     ]
    },
    {
     "data": {
      "image/png": "[encoded data removed]",
      "text/plain": [
       "<Figure size 432x288 with 1 Axes>"
      ]
     },
     "metadata": {},
     "output_type": "display_data"
    }
   ],
   "source": [
    "bs_results=np.empty(10000)\n",
    "for i in range(10000):\n",
    "    bs_results[i]= bootstrap_replicate(y,np.mean)\n",
    "_ = plt.hist(bs_results, bins=30, normed=True)\n",
    "_ = plt.xlabel(\"medie\")\n",
    "_ = plt.ylabel(\"Empirical PDF of the mean\")"
   ]
  },
  {
   "cell_type": "code",
   "execution_count": 212,
   "metadata": {},
   "outputs": [
    {
     "data": {
      "text/plain": [
       "array([0.38417826, 0.4538538 ])"
      ]
     },
     "execution_count": 212,
     "metadata": {},
     "output_type": "execute_result"
    }
   ],
   "source": [
    "conf_interval = np.percentile(bs_results, [5, 95])\n",
    "conf_interval"
   ]
  }
 ],
 "metadata": {
  "kernelspec": {
   "display_name": "Python 3",
   "language": "python",
   "name": "python3"
  },
  "language_info": {
   "codemirror_mode": {
    "name": "ipython",
    "version": 3
   },
   "file_extension": ".py",
   "mimetype": "text/x-python",
   "name": "python",
   "nbconvert_exporter": "python",
   "pygments_lexer": "ipython3",
   "version": "3.6.5"
  }
 },
 "nbformat": 4,
 "nbformat_minor": 2
}
